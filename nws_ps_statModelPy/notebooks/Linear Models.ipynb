{
 "cells": [
  {
   "cell_type": "markdown",
   "metadata": {},
   "source": [
    "#### Fitting OLS and WLS"
   ]
  },
  {
   "cell_type": "code",
   "execution_count": 1,
   "metadata": {},
   "outputs": [],
   "source": [
    "# imports\n",
    "import statsmodels.api as sm\n",
    "import pandas as pd \n",
    "import numpy as np\n",
    "import warnings\n",
    "warnings.simplefilter('ignore') # filter warnings"
   ]
  },
  {
   "cell_type": "code",
   "execution_count": 5,
   "metadata": {},
   "outputs": [],
   "source": [
    "# creating dummy data\n",
    "x = np.linspace(0,20,50)\n",
    "x = np.column_stack((x,(x-5)**2))\n",
    "x = sm.add_constant(x)\n",
    "\n",
    "coefficients = [5,.5,.1]\n",
    "y_true = np.dot(x,coefficients)\n",
    "\n",
    "# creating error and weights for dummy data\n",
    "e = np.random.normal(size=50)\n",
    "w = np.ones(50)\n",
    "w[50*6//10:] = 3\n",
    "\n",
    "# applying error and weights to dummy\n",
    "y = y_true + .3 * w * e\n",
    "\n",
    "x = x[:,[0,1]] # extracting our defined x value and constant"
   ]
  },
  {
   "cell_type": "code",
   "execution_count": 21,
   "metadata": {},
   "outputs": [
    {
     "name": "stdout",
     "output_type": "stream",
     "text": [
      "                            OLS Regression Results                            \n",
      "==============================================================================\n",
      "Dep. Variable:                      y   R-squared:                       0.880\n",
      "Model:                            OLS   Adj. R-squared:                  0.878\n",
      "Method:                 Least Squares   F-statistic:                     353.6\n",
      "Date:                Tue, 23 Jun 2020   Prob (F-statistic):           8.78e-24\n",
      "Time:                        19:54:24   Log-Likelihood:                -130.20\n",
      "No. Observations:                  50   AIC:                             264.4\n",
      "Df Residuals:                      48   BIC:                             268.2\n",
      "Df Model:                           1                                         \n",
      "Covariance Type:            nonrobust                                         \n",
      "==============================================================================\n",
      "                 coef    std err          t      P>|t|      [0.025      0.975]\n",
      "------------------------------------------------------------------------------\n",
      "const          0.8230      0.930      0.885      0.381      -1.047       2.693\n",
      "x1             1.5072      0.080     18.805      0.000       1.346       1.668\n",
      "==============================================================================\n",
      "Omnibus:                        9.092   Durbin-Watson:                   0.067\n",
      "Prob(Omnibus):                  0.011   Jarque-Bera (JB):                4.854\n",
      "Skew:                           0.561   Prob(JB):                       0.0883\n",
      "Kurtosis:                       1.964   Cond. No.                         23.0\n",
      "==============================================================================\n",
      "\n",
      "Warnings:\n",
      "[1] Standard Errors assume that the covariance matrix of the errors is correctly specified.\n"
     ]
    }
   ],
   "source": [
    "ols = sm.OLS(y,x)\n",
    "result = ols.fit()\n",
    "print(result.summary())"
   ]
  },
  {
   "cell_type": "code",
   "execution_count": 24,
   "metadata": {},
   "outputs": [
    {
     "name": "stdout",
     "output_type": "stream",
     "text": [
      "                            WLS Regression Results                            \n",
      "==============================================================================\n",
      "Dep. Variable:                      y   R-squared:                       0.831\n",
      "Model:                            WLS   Adj. R-squared:                  0.827\n",
      "Method:                 Least Squares   F-statistic:                     236.0\n",
      "Date:                Tue, 23 Jun 2020   Prob (F-statistic):           3.70e-20\n",
      "Time:                        19:56:24   Log-Likelihood:                -130.18\n",
      "No. Observations:                  50   AIC:                             264.4\n",
      "Df Residuals:                      48   BIC:                             268.2\n",
      "Df Model:                           1                                         \n",
      "Covariance Type:            nonrobust                                         \n",
      "==============================================================================\n",
      "                 coef    std err          t      P>|t|      [0.025      0.975]\n",
      "------------------------------------------------------------------------------\n",
      "const          2.0227      0.799      2.531      0.015       0.416       3.629\n",
      "x1             1.3150      0.086     15.362      0.000       1.143       1.487\n",
      "==============================================================================\n",
      "Omnibus:                        7.802   Durbin-Watson:                   0.064\n",
      "Prob(Omnibus):                  0.020   Jarque-Bera (JB):                3.675\n",
      "Skew:                           0.417   Prob(JB):                        0.159\n",
      "Kurtosis:                       1.966   Cond. No.                         17.0\n",
      "==============================================================================\n",
      "\n",
      "Warnings:\n",
      "[1] Standard Errors assume that the covariance matrix of the errors is correctly specified.\n"
     ]
    }
   ],
   "source": [
    "wls = sm.WLS(y,x,weights=1/w)\n",
    "result = wls.fit()\n",
    "print(result.summary())"
   ]
  },
  {
   "cell_type": "code",
   "execution_count": null,
   "metadata": {},
   "outputs": [],
   "source": []
  }
 ],
 "metadata": {
  "kernelspec": {
   "display_name": "Python 3",
   "language": "python",
   "name": "python3"
  },
  "language_info": {
   "codemirror_mode": {
    "name": "ipython",
    "version": 3
   },
   "file_extension": ".py",
   "mimetype": "text/x-python",
   "name": "python",
   "nbconvert_exporter": "python",
   "pygments_lexer": "ipython3",
   "version": "3.7.6"
  }
 },
 "nbformat": 4,
 "nbformat_minor": 4
}
